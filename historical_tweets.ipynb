{
 "cells": [
  {
   "cell_type": "markdown",
   "metadata": {},
   "source": [
    "The goal of this tutorial is to show how to use the search-recent and full-archive search endpoints that allows users to access recent tweets with the search_recent endpoint and tweets dating all the way back to the beginning of twitter with the search_all_tweets endpoint. <br>\n",
    "\n",
    "This tutorial is based on https://developer.twitter.com/en/docs/tutorials/getting-historical-tweets-using-the-full-archive-search-endpoint <br>\n",
    "\n",
    "Currently to get access to all historical tweets - full-archive - you will need to have a twitter academic/research developer account and be approved to the academic researcher product track. You must apply for additional access as while creating the twitter developer account, you only get essential access. More details can be found here - https://developer.twitter.com/en/portal/petition/academic/is-it-right-for-you <br>\n"
   ]
  },
  {
   "cell_type": "markdown",
   "metadata": {},
   "source": [
    "Import the packages required for this notebook."
   ]
  },
  {
   "cell_type": "code",
   "execution_count": 2,
   "metadata": {},
   "outputs": [],
   "source": [
    "import requests\n",
    "import os\n",
    "import json\n",
    "import tweepy"
   ]
  },
  {
   "cell_type": "markdown",
   "metadata": {},
   "source": [
    "set your twitter consumer_key, consumer_secret, access_token, and access_token_secret as environment variables. For information on where to locate this information you can look at https://developer.twitter.com/en/docs/apps/overview\n",
    "\n",
    "A secure way to use your credentials is by creating environment variables in your terminal. <br>\n",
    "\n",
    "export 'consumer_key'='xxxx' <br>\n",
    "export 'consumer_secret'='xxxx' <br>\n",
    "export 'access_token'='xxxx' <br>\n",
    "export 'access_token_secret'='xxxx' <br>\n",
    "\n",
    "After authenticating the twitter credentials, you will be able to access the twitter api interface."
   ]
  },
  {
   "cell_type": "code",
   "execution_count": 3,
   "metadata": {},
   "outputs": [],
   "source": [
    "consumer_key = os.environ.get('consumer_key')\n",
    "consumer_secret = os.environ.get('consumer_secret')\n",
    "access_token = os.environ.get('access_token')\n",
    "access_token_secret = os.environ.get('access_token_secret')\n",
    "bearer_token = os.environ.get('BEARER_TOKEN')\n",
    "\n",
    "auth = tweepy.OAuthHandler(consumer_key, consumer_secret)\n",
    "auth.set_access_token(access_token, access_token_secret)\n",
    "api = tweepy.API(auth)\n",
    "\n",
    "client=tweepy.Client(bearer_token=bearer_token, consumer_key=consumer_key, consumer_secret=consumer_secret, access_token=access_token, access_token_secret=access_token_secret)"
   ]
  },
  {
   "cell_type": "markdown",
   "metadata": {},
   "source": [
    "The search_recent_tweets api gives tweets from the past 7 days, you can alter the query based on what you are looking for. The max_results parameter indicates the maximum number of tweets that are retrieved, this should be a number between 10 and 100."
   ]
  },
  {
   "cell_type": "code",
   "execution_count": 4,
   "metadata": {},
   "outputs": [],
   "source": [
    "client=tweepy.Client(bearer_token=bearer_token)\n",
    "query='from:Twitterdev'\n",
    "tweets = client.search_recent_tweets(query=query, max_results=15)"
   ]
  },
  {
   "cell_type": "code",
   "execution_count": 5,
   "metadata": {},
   "outputs": [
    {
     "name": "stdout",
     "output_type": "stream",
     "text": [
      "Next week, some of our most impactful builders are going to show us their blueprint: don't miss @jessicagarson @JaniquekaJohn @revistaazmina @ParissAthena &amp; @hbeckpdx on March 16th, 7am PST. 📆 https://t.co/pUT0YfQFB8\n",
      "\n",
      "\n",
      "We are looking to improve our streaming endpoints in the Twitter API v2 and would love to get your feedback. Please share your feedback with us 👇\n",
      "\n",
      "https://t.co/F964saJU5Y\n",
      "\n",
      "\n",
      "Join us tomorrow for a continued conversation on customizing timelines and how this might work for developers. And stay tuned for more Spaces coming up next week. 👀 https://t.co/P4JTc14mdC\n",
      "\n",
      "\n",
      "Developer innovation is always important, including in times of crisis. If you're building tools to help connect people, keep them safe, or share information with the world, we're here to support—reply to this Tweet to tell us more about your app.\n",
      "\n",
      "\n",
      "🗣 Have you built a project using the Twitter API you’d like to share with the community? We’d love to hear from you. Share your project with us!\n",
      "\n",
      "\n",
      "🧰🛠 This is just one way developer innovation helps make Twitter a better place. You can find other ready-to-use tools built by our developer community in our Twitter Toolbox here ⬇️ https://t.co/rK0X30JSYU\n",
      "\n",
      "\n",
      "🚀 The Harassment Management tool is HERE. \n",
      "✔️ Review, sort, and export harmful comments with trusted parties \n",
      "✔️ Mute or block perpetrators \n",
      "✔️ Hide replies to Tweets\n",
      "…and more! ↓\n",
      "https://t.co/TLAIR9CtNV\n",
      "\n",
      "\n",
      "📣Today’s an important day! \n",
      "We’ve partnered with @Jigsaw on the launch of this new tool. This collaboration allows NGOs and nonprofits to build tools that help people stay safe on Twitter by addressing the needs and preferences of the communities they serve. Learn More ⬇️ https://t.co/MmznmgxoWT\n",
      "\n",
      "\n"
     ]
    }
   ],
   "source": [
    "for tweet in tweets.data:\n",
    "    print(tweet.text)\n",
    "    print('\\n')"
   ]
  },
  {
   "cell_type": "markdown",
   "metadata": {},
   "source": [
    "To access all tweets from the beginning of twitter you need to have an account with research/academic access and be approved for academic researcher product track. Once you do get access you can get all tweets from the beginning of twitter by using the search_all_tweets. <br>\n",
    "\n",
    "You can get a maximum of 500 tweets, if there are more than 500 tweets, next_token can be used from response and appended to the next query to get the next 500 tokens. This is available only with search_all_tweets endpoint."
   ]
  },
  {
   "cell_type": "code",
   "execution_count": 5,
   "metadata": {},
   "outputs": [
    {
     "ename": "Forbidden",
     "evalue": "403 Forbidden",
     "output_type": "error",
     "traceback": [
      "\u001b[0;31m---------------------------------------------------------------------------\u001b[0m",
      "\u001b[0;31mForbidden\u001b[0m                                 Traceback (most recent call last)",
      "\u001b[0;32m<ipython-input-5-d6213b5da06f>\u001b[0m in \u001b[0;36m<module>\u001b[0;34m()\u001b[0m\n\u001b[0;32m----> 1\u001b[0;31m \u001b[0mtweets\u001b[0m \u001b[0;34m=\u001b[0m \u001b[0mclient\u001b[0m\u001b[0;34m.\u001b[0m\u001b[0msearch_all_tweets\u001b[0m\u001b[0;34m(\u001b[0m\u001b[0mquery\u001b[0m\u001b[0;34m=\u001b[0m\u001b[0mquery\u001b[0m\u001b[0;34m,\u001b[0m \u001b[0mmax_results\u001b[0m\u001b[0;34m=\u001b[0m\u001b[0;36m11\u001b[0m\u001b[0;34m)\u001b[0m\u001b[0;34m\u001b[0m\u001b[0m\n\u001b[0m",
      "\u001b[0;32m~/anaconda3/lib/python3.6/site-packages/tweepy/client.py\u001b[0m in \u001b[0;36msearch_all_tweets\u001b[0;34m(self, query, **params)\u001b[0m\n\u001b[1;32m    811\u001b[0m                 \u001b[0;34m\"since_id\"\u001b[0m\u001b[0;34m,\u001b[0m \u001b[0;34m\"sort_order\"\u001b[0m\u001b[0;34m,\u001b[0m \u001b[0;34m\"start_time\"\u001b[0m\u001b[0;34m,\u001b[0m \u001b[0;34m\"tweet.fields\"\u001b[0m\u001b[0;34m,\u001b[0m\u001b[0;34m\u001b[0m\u001b[0m\n\u001b[1;32m    812\u001b[0m                 \u001b[0;34m\"until_id\"\u001b[0m\u001b[0;34m,\u001b[0m \u001b[0;34m\"user.fields\"\u001b[0m\u001b[0;34m\u001b[0m\u001b[0m\n\u001b[0;32m--> 813\u001b[0;31m             ), data_type=Tweet\n\u001b[0m\u001b[1;32m    814\u001b[0m         )\n\u001b[1;32m    815\u001b[0m \u001b[0;34m\u001b[0m\u001b[0m\n",
      "\u001b[0;32m~/anaconda3/lib/python3.6/site-packages/tweepy/client.py\u001b[0m in \u001b[0;36m_make_request\u001b[0;34m(self, method, route, params, endpoint_parameters, json, data_type, user_auth)\u001b[0m\n\u001b[1;32m    117\u001b[0m \u001b[0;34m\u001b[0m\u001b[0m\n\u001b[1;32m    118\u001b[0m         response = self.request(method, route, params=request_params,\n\u001b[0;32m--> 119\u001b[0;31m                                 json=json, user_auth=user_auth)\n\u001b[0m\u001b[1;32m    120\u001b[0m \u001b[0;34m\u001b[0m\u001b[0m\n\u001b[1;32m    121\u001b[0m         \u001b[0;32mif\u001b[0m \u001b[0mself\u001b[0m\u001b[0;34m.\u001b[0m\u001b[0mreturn_type\u001b[0m \u001b[0;32mis\u001b[0m \u001b[0mrequests\u001b[0m\u001b[0;34m.\u001b[0m\u001b[0mResponse\u001b[0m\u001b[0;34m:\u001b[0m\u001b[0;34m\u001b[0m\u001b[0m\n",
      "\u001b[0;32m~/anaconda3/lib/python3.6/site-packages/tweepy/client.py\u001b[0m in \u001b[0;36mrequest\u001b[0;34m(self, method, route, params, json, user_auth)\u001b[0m\n\u001b[1;32m     90\u001b[0m                 \u001b[0;32mraise\u001b[0m \u001b[0mUnauthorized\u001b[0m\u001b[0;34m(\u001b[0m\u001b[0mresponse\u001b[0m\u001b[0;34m)\u001b[0m\u001b[0;34m\u001b[0m\u001b[0m\n\u001b[1;32m     91\u001b[0m             \u001b[0;32mif\u001b[0m \u001b[0mresponse\u001b[0m\u001b[0;34m.\u001b[0m\u001b[0mstatus_code\u001b[0m \u001b[0;34m==\u001b[0m \u001b[0;36m403\u001b[0m\u001b[0;34m:\u001b[0m\u001b[0;34m\u001b[0m\u001b[0m\n\u001b[0;32m---> 92\u001b[0;31m                 \u001b[0;32mraise\u001b[0m \u001b[0mForbidden\u001b[0m\u001b[0;34m(\u001b[0m\u001b[0mresponse\u001b[0m\u001b[0;34m)\u001b[0m\u001b[0;34m\u001b[0m\u001b[0m\n\u001b[0m\u001b[1;32m     93\u001b[0m             \u001b[0;31m# Handle 404?\u001b[0m\u001b[0;34m\u001b[0m\u001b[0;34m\u001b[0m\u001b[0m\n\u001b[1;32m     94\u001b[0m             \u001b[0;32mif\u001b[0m \u001b[0mresponse\u001b[0m\u001b[0;34m.\u001b[0m\u001b[0mstatus_code\u001b[0m \u001b[0;34m==\u001b[0m \u001b[0;36m429\u001b[0m\u001b[0;34m:\u001b[0m\u001b[0;34m\u001b[0m\u001b[0m\n",
      "\u001b[0;31mForbidden\u001b[0m: 403 Forbidden"
     ]
    }
   ],
   "source": [
    "tweets = client.search_all_tweets(query=query, max_results=11)"
   ]
  },
  {
   "cell_type": "markdown",
   "metadata": {},
   "source": [
    "Optionally you can get tweets within a particular timeframe by specifying the start time and end time of the tweets that need to be retrieved as shown below. <br>\n",
    "\n",
    "The date and time should be in the RFC3339 format as shown for start time and end point. While using the search_recent_tweets api you will need to restrict these dates to be within 7 days of when you search. <br>\n",
    "\n",
    "Details about the RFC3339 format can be found here: https://datatracker.ietf.org/doc/html/rfc3339 <br>\n",
    "\n",
    "Max results should be a number between 10 and 100. <br>"
   ]
  },
  {
   "cell_type": "code",
   "execution_count": 10,
   "metadata": {},
   "outputs": [],
   "source": [
    "query='covid'\n",
    "\n",
    "start_time='2022-03-05T00:00:00Z'\n",
    "end_time='2022-03-06T00:00:00Z'\n",
    "tweets = client.search_recent_tweets(query=query, start_time=start_time, end_time=end_time, tweet_fields=['lang', 'created_at'], max_results=20)"
   ]
  },
  {
   "cell_type": "code",
   "execution_count": 11,
   "metadata": {},
   "outputs": [
    {
     "name": "stdout",
     "output_type": "stream",
     "text": [
      "RT @themood2020: My son has to go into school next week dressed as a Ukrainian flag. I’m all for the solidarity and support of the poor Ukr…\n",
      "2022-03-05 23:59:59+00:00\n",
      "en\n",
      "\n",
      "\n",
      "RT @LisaEsther6: A hockey game last week with 11 yo kids. 21 got COVID. Plus their family members. No reporting or contact tracing so many…\n",
      "2022-03-05 23:59:59+00:00\n",
      "en\n",
      "\n",
      "\n",
      "RT @tiotheo01: 05 Mar 2022: Confirmed new COVID-19 cases in Malaysia by vaccination status\n",
      "\n",
      "33,406 another new high surpassing last Friday'…\n",
      "2022-03-05 23:59:59+00:00\n",
      "en\n",
      "\n",
      "\n",
      "RT @thackerpd: You know what the craziness is? \n",
      "\n",
      "CDC Director admits she got her medical info on Pfizer's vaccine from CNN, story here: htt…\n",
      "2022-03-05 23:59:59+00:00\n",
      "en\n",
      "\n",
      "\n",
      "This report shows that Black New Yorkers were more than twice as likely as White New Yorkers to be hospitalized during Omicron. They also took longer to get diagnosed from initial symptoms.\n",
      "We need to do so much better. \n",
      "https://t.co/4KxStzQVoT\n",
      "2022-03-05 23:59:59+00:00\n",
      "en\n",
      "\n",
      "\n",
      "RT @detikcom: Sebagian orang sering mengeluhkan beberapa gejala setelah dinyatakan sembuh dari COVID, kondisi itu disebut long COVID. Lanta…\n",
      "2022-03-05 23:59:59+00:00\n",
      "in\n",
      "\n",
      "\n",
      "@Krimskrams33 They need to move on to tweets about Russia. Covid is sooooo last year.\n",
      "2022-03-05 23:59:58+00:00\n",
      "en\n",
      "\n",
      "\n",
      "RT @LisaEsther6: A hockey game last week with 11 yo kids. 21 got COVID. Plus their family members. No reporting or contact tracing so many…\n",
      "2022-03-05 23:59:58+00:00\n",
      "en\n",
      "\n",
      "\n",
      "RT @catoletters: Ukraine is a big wag the dog.  There must be some really bad information coming on the Covid scam.  Maybe more side effect…\n",
      "2022-03-05 23:59:58+00:00\n",
      "en\n",
      "\n",
      "\n",
      "A psych resident recovers from COVID – Extra https://t.co/h0kMdYc6WG\n",
      "2022-03-05 23:59:58+00:00\n",
      "en\n",
      "\n",
      "\n",
      "RT @eunheui: 先ほどリツイートした、Covid-19重症者の都道府県別のグラフ、にわかに信じがたかったので、厚生労働省のオープンデータを確認してみたのですが、本当でした。多い順にソートせずそのままグラフにすると、こうなりました。灰色のところが大阪です。 https:…\n",
      "2022-03-05 23:59:58+00:00\n",
      "ja\n",
      "\n",
      "\n",
      "@POTUS What a crock . Unemployment  was down because  of covid fool . Open up the pipelines hire give those people  back their jobs and bring down our cost . Ppl cant live .ppl will die because  of you.\n",
      "2022-03-05 23:59:58+00:00\n",
      "en\n",
      "\n",
      "\n",
      "RT @Maria111316: Removal of covid cert to enter Ireland to facilitate the Ukrainians! \n",
      "The more I think about it...the angrier I get 😡\n",
      "2022-03-05 23:59:58+00:00\n",
      "en\n",
      "\n",
      "\n",
      "RT @MSNBC: “I think a lot of people want this president to succeed, he’s gotten nothing but praise on the way he has handled this, I’ve see…\n",
      "2022-03-05 23:59:58+00:00\n",
      "en\n",
      "\n",
      "\n",
      "@AllisonCross Yeah I had that recently too. I told Emmet one of our neighbours had COVID. “Has she died yet?” So we had to have a conversation that not everyone who gets COVID dies. Then he tested positive a week later, so I guess the earlier conversation was good to have.\n",
      "2022-03-05 23:59:58+00:00\n",
      "en\n",
      "\n",
      "\n",
      "RT @FatherBob: Good morning Twitterverse 😁 thanks for your tidal wave of care and concern  for me during my time in the self inflicted dold…\n",
      "2022-03-05 23:59:58+00:00\n",
      "en\n",
      "\n",
      "\n",
      "RT @ccdoublezee: ควรเลิก present สายพันธุ์ omicron ว่าอาการไม่หนักได้แล้ว ควรเน้นย้ำให้คนยังคงใช้ชีวิตด้วยความระมัดระวัง เพราะอาจแพร่เชื้อ…\n",
      "2022-03-05 23:59:58+00:00\n",
      "th\n",
      "\n",
      "\n",
      "RT @ouagostinho: COVID Doge | @CovidDogeBSC\n",
      "\n",
      "A community and BinanceBCF based project! COVIDDOGE will help more people with BinanceBCF!\n",
      "\n",
      "✅C…\n",
      "2022-03-05 23:59:58+00:00\n",
      "en\n",
      "\n",
      "\n",
      "RT @ASESORSLP: Agradezco al gobierno de Estados Unidos haberme regalado la vacuna Pfizer para el booster que necesitaba. \n",
      "❤️🇺🇸\n",
      "\n",
      "En correspo…\n",
      "2022-03-05 23:59:58+00:00\n",
      "es\n",
      "\n",
      "\n"
     ]
    }
   ],
   "source": [
    "for tweet in tweets.data:\n",
    "    print(tweet.text)\n",
    "    print(tweet.created_at)\n",
    "    print(tweet.lang)\n",
    "    print('\\n')"
   ]
  },
  {
   "cell_type": "markdown",
   "metadata": {},
   "source": [
    "You can now filter tweets that are based on a geo-location. There are not too many tweets with geo-location turned on, as location is turned off by default."
   ]
  },
  {
   "cell_type": "code",
   "execution_count": 12,
   "metadata": {},
   "outputs": [],
   "source": [
    "query='winter'\n",
    "tweets = client.search_recent_tweets(query=query, tweet_fields=['context_annotations', 'created_at', 'geo'],\n",
    "                                  place_fields=['place_type', 'geo'], expansions='geo.place_id', max_results=15)"
   ]
  },
  {
   "cell_type": "code",
   "execution_count": 13,
   "metadata": {},
   "outputs": [
    {
     "name": "stdout",
     "output_type": "stream",
     "text": [
      "1502089236413292550\n",
      "RT @treasuremembers: 이제 곧 봄 이지만 WINTER CAMP 많관부 ! ⛄️❄️\n",
      "#JIHOON #지훈 #じふぅぅぅぅん #YOONJAEHYUK #윤재혁 #ジェヒョク https://t.co/5yYNLCRZJv\n",
      "None\n",
      "1502089236245147652\n",
      "RT @honeymallow8823: 220311\n",
      "\n",
      "👀💜\n",
      "\n",
      "➖\n",
      "\n",
      "#규현 #KYUHYUN \n",
      "#キュヒョン #圭贤 \n",
      "#슈퍼주니어 #SUPERJUNIOR\n",
      "#Callin #TheRoad_Winter_for_Spring https://t.co/6qpmSURnEQ\n",
      "None\n",
      "1502089235171778561\n",
      "RT @hwangmindun: If im not wrong, 여보세요 MV background is snow/winter. This tracklist starts from winter and end in spring.\n",
      "None\n",
      "1502089234886574081\n",
      "RT @880203_SM: 2203011 출근\n",
      "\n",
      "화이띵✨️💙🤍\n",
      "👋✊️✊️\n",
      "\n",
      "#슈퍼주니어 #SUPERJUNIOR\n",
      "#규현 #KYUHYUN #キュヒョン #Callin #TheRoad_Winter_for_Spring https://t.co/AZmqYlx35S\n",
      "None\n",
      "1502089230830428160\n",
      "RT @IndieBkButler: With his clan's welfare threatened by raiding parties during a harsh winter, Jareth rides to demand restitution https://…\n",
      "None\n",
      "1502089229257822208\n",
      "RT @honeymallow8823: 220311\n",
      "\n",
      "💜💙💜💙\n",
      "\n",
      "➖\n",
      "\n",
      "#규현 #KYUHYUN \n",
      "#キュヒョン #圭贤 \n",
      "#슈퍼주니어 #SUPERJUNIOR\n",
      "#Callin #TheRoad_Winter_for_Spring https://t.co/rnNeoPg…\n",
      "None\n",
      "1502089227454005250\n",
      "@poddostarline THANKS, I’m TRYING but I’m BURNT OUT thanks to not getting a real winter break and I have DEPRESSION which makes me UNABLE to MOVE or FOCUS :,D\n",
      "None\n",
      "1502089221536108546\n",
      "RT @9znCi: MANKAI STAGE A3! Autumn&amp;Winter エームビ 特典 交換\n",
      "\n",
      "譲り→十座、左京\n",
      "\n",
      "求め→誉、東（各一） https://t.co/73PJLhwnNC\n",
      "None\n",
      "1502089220894052355\n",
      "RT @CHANEL: JENNIE attending the CHANEL Fall-Winter 2022/23 Ready-to-Wear show.\n",
      "\n",
      "See all the looks at https://t.co/5IQ80iIn2D\n",
      "\n",
      "#CHANELFallW…\n",
      "None\n",
      "1502089220143591424\n",
      "RT @HAEBARAGI_1015: 220311 오늘도 화이팅!! #Callin #TheRoad_Winter_for_Spring #슈퍼주니어 #동해 #SUPERJUNIOR #DONGHAE https://t.co/79eiqg8zjl\n",
      "None\n",
      "1502089218276823040\n",
      "@Iarismanis ada winter no 5 kaa !\n",
      "\n",
      "haloo ! aku ada ready stock layout moodboard coret nih, ava jpg &amp; png\n",
      " — 6k /each\n",
      "ready : bg , gg , ulzzang\n",
      "( no 19, 38 &amp; 40 s-old )\n",
      "\n",
      "ಌ bisa req layout juga !! cek pinned ya  \n",
      "\n",
      "payment bisa lewat spay &amp; dana ! 🧸🌷 https://t.co/D4IU2ONIPw\n",
      "None\n",
      "1502089215064297475\n",
      "RT @qtaespasol: karina always taking a vid of winter is driving me insane actually\n",
      "None\n",
      "1502089213780852736\n",
      "RT @nytimes: The Ukrainian delegation at the Winter Paralympic Games in China held a demonstration for peace at the athletes’ village on Th…\n",
      "None\n",
      "1502089213042380823\n",
      "Someone asked if I could expand this to the include the 1960s and 50s, so here we go plus the 40s...\n",
      "\n",
      "Meteorological Winter (DJF)\n",
      "\n",
      "1940s - 11.9\"/yr\n",
      "1950s - 7.6\"/yr\n",
      "1960s - 16.6\"/yr\n",
      "1970s -14.0\"/yr\n",
      "1980s - 9.1\"/yr\n",
      "1990s - 12,2\"/yr\n",
      "2000s - 11.6\"/yr\n",
      "None\n",
      "1502089211914063873\n",
      "@cyberbabii I took mine off after years because I got so annoyed this past winter lmfaoooo but I might get them back cause they’re so cute.\n",
      "None\n"
     ]
    }
   ],
   "source": [
    "for tweet in tweets.data:\n",
    "    print(tweet.id)\n",
    "    print(tweet.text)\n",
    "    print(tweet.geo)"
   ]
  }
 ],
 "metadata": {
  "kernelspec": {
   "display_name": "Python 3",
   "language": "python",
   "name": "python3"
  },
  "language_info": {
   "codemirror_mode": {
    "name": "ipython",
    "version": 3
   },
   "file_extension": ".py",
   "mimetype": "text/x-python",
   "name": "python",
   "nbconvert_exporter": "python",
   "pygments_lexer": "ipython3",
   "version": "3.6.5"
  }
 },
 "nbformat": 4,
 "nbformat_minor": 2
}
