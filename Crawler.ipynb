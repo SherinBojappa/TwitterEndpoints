{
 "cells": [
  {
   "cell_type": "markdown",
   "metadata": {},
   "source": [
    "# Twitter Crawler\n",
    "\n",
    "The first thing you need to do is to create an application:\n",
    "\n",
    "[Twitter Apps](https://apps.twitter.com/) Select the **Create New App** button and follow instructions to the end.\n",
    "\n",
    "and obtain the following keys/tokens for authentication:\n",
    "\n",
    "* consumer_key\n",
    "* consumer_secret\n",
    "* access_token\n",
    "* access_token_secret\n",
    "\n",
    "**Note** Generating Twitter API keys can take anywhere from minutes to weeks "
   ]
  },
  {
   "cell_type": "markdown",
   "metadata": {},
   "source": [
    "# **Tweepy**\n",
    "\n",
    "> Tweepy is one of the best packages for working with twiter APIs [More](https://www.tweepy.org/)"
   ]
  },
  {
   "cell_type": "code",
   "execution_count": null,
   "metadata": {},
   "outputs": [],
   "source": [
    "## Import Required Modules\n",
    "\n",
    "import os\n",
    "import json\n",
    "import tweepy\n",
    "import requests"
   ]
  },
  {
   "cell_type": "markdown",
   "metadata": {},
   "source": [
    "## Environment Setup and Authentication\n",
    "\n",
    "> * Set your twitter consumer_key, consumer_secret, access_token, and access_token_secret as environment variables. \n",
    "> * For information on where to locate this information you can look at [TwitterEnvironment](https://developer.twitter.com/en/docs/apps/overview)\n",
    "> * A secure way to use your credentials is by creating environment variables in your terminal. \n",
    "```console\n",
    "export 'consumer_key'='xxxx' \n",
    "export 'consumer_secret'='xxxx' \n",
    "export 'access_token'='xxxx' \n",
    "export 'access_token_secret'='xxxx'\n",
    "```\n",
    "> * After authenticating the twitter credentials, you will be able to access the twitter api interface."
   ]
  },
  {
   "cell_type": "code",
   "execution_count": null,
   "metadata": {},
   "outputs": [],
   "source": [
    "consumer_key = os.environ.get('consumer_key')\n",
    "consumer_secret = os.environ.get('consumer_secret')\n",
    "access_token = os.environ.get('access_token')\n",
    "access_token_secret = os.environ.get('access_token_secret')\n",
    "\n",
    "auth = tweepy.OAuthHandler(consumer_key, consumer_secret)\n",
    "auth.set_access_token(access_token, access_token_secret)\n",
    "api = tweepy.API(auth)"
   ]
  },
  {
   "cell_type": "markdown",
   "metadata": {},
   "source": [
    "**Getting user’s Tweets**\n",
    ">Main parameters:\n",
    "> * id – Specifies the ID or screen name of the user.\n",
    "> * count – Max amount of most recent tweets of user. <br>\n",
    "> * [More Details](https://tweepy.readthedocs.io/en/latest/api.html#API.user_timeline)"
   ]
  },
  {
   "cell_type": "code",
   "execution_count": null,
   "metadata": {},
   "outputs": [],
   "source": [
    "!pip install columnar"
   ]
  },
  {
   "cell_type": "code",
   "execution_count": null,
   "metadata": {},
   "outputs": [],
   "source": [
    "from columnar import columnar\n",
    "\n",
    "username = 'boredbengio'\n",
    "count = 5\n",
    "\n",
    "# Only iterate through the first n statuses\n",
    "tweets = tweepy.Cursor(api.user_timeline,\n",
    "                       screen_name=username).items(count)\n",
    "\n",
    "# Pulling information from tweets iterable object\n",
    "tweets_list = [[tweet.id, tweet.created_at, tweet.text] for tweet in tweets]\n",
    "\n",
    "#print tweets\n",
    "headers = ['id', 'created_at','text']\n",
    "table = columnar(tweets_list, headers, no_borders=True)\n",
    "print(table)\n",
    "\n",
    "# what are the current attributes/tags in a tweet?\n",
    "# https://jsoneditoronline.org/\n",
    "tweet = api.get_status('1420646753863225349')\n",
    "print(json.dumps(tweet._json))"
   ]
  },
  {
   "cell_type": "markdown",
   "metadata": {},
   "source": [
    "**Pagination**\n",
    ">Main parameters:\n",
    "> * count – Max number of pages. <br>\n",
    "> * [More Details](https://docs.tweepy.org/en/latest/v2_pagination.html?highlight=pagination)"
   ]
  },
  {
   "cell_type": "code",
   "execution_count": null,
   "metadata": {},
   "outputs": [],
   "source": [
    "# pagination.. iterate through pages\n",
    "count = 1\n",
    "for page in tweepy.Cursor(api.user_timeline,screen_name=username).pages(count):\n",
    "    searched_tweets = [status for status in page]\n",
    "    ids_texts = [(json_obj.id, json_obj.text) for json_obj in searched_tweets]\n",
    "    for id, text in ids_texts:\n",
    "        print(id, text[:30])\n",
    "    # searched_tweets = [status._json for status in page]\n",
    "    #json_strings = [json.dumps(json_obj) for json_obj in searched_tweets]  \n",
    "    #print(json_strings[0])"
   ]
  },
  {
   "cell_type": "code",
   "execution_count": null,
   "metadata": {},
   "outputs": [],
   "source": [
    "user_id='14861663'\n",
    "count = 5\n",
    "\n",
    "followers = tweepy.Cursor(api.get_follower_ids,\n",
    "                          user_id=user_id).items(count)\n",
    "\n",
    "user_list = [[user] for user in followers]\n",
    "\n",
    "headers = ['user_id']\n",
    "table = columnar(user_list, headers, no_borders=True)\n",
    "print(table) "
   ]
  },
  {
   "cell_type": "markdown",
   "metadata": {},
   "source": [
    "**Getting user's followees**\n",
    ">Main parameters:\n",
    "> * user_id – Specifies the ID of the user.\n",
    "> * [More Details](https://docs.tweepy.org/en/latest/api.html?highlight=get_friends#tweepy.API.get_friends)"
   ]
  },
  {
   "cell_type": "code",
   "execution_count": null,
   "metadata": {},
   "outputs": [],
   "source": [
    "user_id='14861663'\n",
    "count = 5\n",
    "    \n",
    "friends = tweepy.Cursor(api.get_friends,\n",
    "                        user_id=user_id).items(count)\n",
    "    \n",
    "# Pulling information from tweets iterable object\n",
    "user_list = [[user.id,  user.screen_name, user.created_at] for user in friends]\n",
    "\n",
    "#print users\n",
    "headers = ['user_id', ' screen_name','created_at']\n",
    "table = columnar(user_list, headers, no_borders=True)\n",
    "print(table) "
   ]
  },
  {
   "cell_type": "markdown",
   "metadata": {},
   "source": [
    "\n",
    "**Getting tweet with specific id**\n",
    "> helpful when you only have tweet ids and would like to get the corresponding attributes such as text."
   ]
  },
  {
   "cell_type": "code",
   "execution_count": null,
   "metadata": {},
   "outputs": [],
   "source": [
    "tweet_id='1255894886051713030'\n",
    "\n",
    "tweet = api.get_status(tweet_id)\n",
    "\n",
    "tweet_list = [tweet.text, tweet.favorite_count, tweet.retweet_count]\n",
    "print(tweet_list)\n",
    "\n",
    "json_tweet = json.dumps(tweet._json)\n",
    "\n",
    "print( json_tweet)"
   ]
  },
  {
   "cell_type": "markdown",
   "metadata": {},
   "source": [
    "\n",
    "**Twitter Search**\n",
    " > To search Twitter for recent tweets, we will define search terms and a start date of for search. [More Details](http://docs.tweepy.org/en/latest/api.html#API.search)<br>\n",
    " > - For creating complex queries please see [Building standard queries](https://developer.twitter.com/en/docs/twitter-api/v1/rules-and-filtering/overview/standard-operators)\n",
    " > - Twitter API only allows you to access the past few weeks of tweets, so you cannot dig into the history too far."
   ]
  },
  {
   "cell_type": "code",
   "execution_count": null,
   "metadata": {},
   "outputs": [],
   "source": [
    "# Define the search term and the date_since date\n",
    "\n",
    "search_words = \"#disneyland -filter:retweets\"\n",
    "\n",
    "# Collect tweets\n",
    "tweets = tweepy.Cursor(api.search_tweets,\n",
    "                       q=search_words,\n",
    "                       lang=\"en\").items(5)\n",
    "\n",
    "# Pulling information from tweets iterable object\n",
    "tweets_list = [[tweet.id, tweet.created_at, tweet.text] for tweet in tweets]\n",
    "\n",
    "#print tweets\n",
    "headers = ['id', ' created_at','text']\n",
    "table = columnar(tweets_list, headers, no_borders=True)\n",
    "print(table)"
   ]
  },
  {
   "cell_type": "markdown",
   "metadata": {},
   "source": [
    "#### Bearer Token\n",
    "\n",
    "> * You would need to set up the bearer token, from your twitter App developer dashboard, for secure point of entry to use the twitter API.\n",
    "> * The bearer token can be found on your twitter App developer dashboard under the \"keys and tokens\" page of the desired twitter app, for more details check out [BearerToken](https://developer.twitter.com/en/docs/authentication/oauth-2-0/bearer-tokens) <br>\n",
    "> * A secure way to use your credentials is by creating environment variables in your terminal.\n",
    "```console\n",
    "export 'BEARER_TOKEN'='xxxx'\n",
    "```\n",
    "> * bearer_oauth is used for bearer_token authorization."
   ]
  },
  {
   "cell_type": "code",
   "execution_count": null,
   "metadata": {},
   "outputs": [],
   "source": [
    "bearer_token = os.environ.get(\"BEARER_TOKEN\")\n",
    "\n",
    "def bearer_oauth(r):\n",
    "    \"\"\"\n",
    "    Method required by bearer token authentication.\n",
    "    \"\"\"\n",
    "\n",
    "    r.headers[\"Authorization\"] = f\"Bearer {bearer_token}\"\n",
    "    r.headers[\"User-Agent\"] = \"v2FilteredStreamPython\"\n",
    "    return r"
   ]
  },
  {
   "cell_type": "markdown",
   "metadata": {},
   "source": [
    "#### Filtered Stream\n",
    "We will now see how to get tweets based on certain rules using FilteredStream. Tweets are requested from the URL [SearchStreamURL](https://developer.twitter.com/en/docs/twitter-api/tweets/filtered-stream/api-reference/get-tweets-search-stream)\n",
    "\n",
    "> * You can adjust the rules by changing sample_rules under the set_rules function.\n",
    "> > * Here the rules are getting tweets with text apple and covid19.\n",
    "> > * You can add more rules by specifying additional strings with keyword value.\n",
    "> > * Rules can also have operators such as has: and tag: The \"has\" operator will get tweets that are only associated with images, whereas the \"tag\" operator is just a string which can be used at a high level to recognize the rule.\n",
    "> > * Check out [BuildRules](https://developer.twitter.com/en/docs/twitter-api/tweets/filtered-stream/integrate/build-a-rule) for more details on building rules for the filtered stream endpoint.\n",
    "> * get_stream prints out the tweets retrieved according to the rules from the filtered stream end point.\n",
    "> * Once you connect to the FilteredStream endpoint you will keep getting tweets matching the rules through a continuous http streaming connection."
   ]
  },
  {
   "cell_type": "code",
   "execution_count": null,
   "metadata": {},
   "outputs": [],
   "source": [
    "def get_rules():\n",
    "    response = requests.get(\n",
    "        \"https://api.twitter.com/2/tweets/search/stream/rules\", auth=bearer_oauth\n",
    "    )\n",
    "    if response.status_code != 200:\n",
    "        raise Exception(\n",
    "            \"Cannot get rules (HTTP {}): {}\".format(response.status_code, response.text)\n",
    "        )\n",
    "    print(json.dumps(response.json()))\n",
    "    return response.json()\n",
    "\n",
    "def delete_all_rules(rules):\n",
    "    if rules is None or \"data\" not in rules:\n",
    "        return None\n",
    "\n",
    "    ids = list(map(lambda rule: rule[\"id\"], rules[\"data\"]))\n",
    "    payload = {\"delete\": {\"ids\": ids}}\n",
    "    response = requests.post(\n",
    "        \"https://api.twitter.com/2/tweets/search/stream/rules\",\n",
    "        auth=bearer_oauth,\n",
    "        json=payload\n",
    "    )\n",
    "    if response.status_code != 200:\n",
    "        raise Exception(\n",
    "            \"Cannot delete rules (HTTP {}): {}\".format(\n",
    "                response.status_code, response.text\n",
    "            )\n",
    "        )\n",
    "    print(json.dumps(response.json()))\n",
    "\n",
    "    \n",
    "def set_rules(rules):\n",
    "    # You can adjust the rules if needed\n",
    "    sample_rules = [\n",
    "        {\"value\": \"apple\"},\n",
    "        {\"value\": \"covid19\"},\n",
    "    ]\n",
    "    payload = {\"add\": sample_rules}\n",
    "    response = requests.post(\n",
    "        \"https://api.twitter.com/2/tweets/search/stream/rules\",\n",
    "        auth=bearer_oauth,\n",
    "        json=payload,\n",
    "    )\n",
    "    if response.status_code != 201:\n",
    "        raise Exception(\n",
    "            \"Cannot add rules (HTTP {}): {}\".format(response.status_code, response.text)\n",
    "        )\n",
    "    print(json.dumps(response.json()))\n",
    "\n",
    "def get_stream(set):\n",
    "    response = requests.get(\n",
    "        \"https://api.twitter.com/2/tweets/search/stream\", auth=bearer_oauth, stream=True,\n",
    "    )\n",
    "    print(response.status_code)\n",
    "    if response.status_code != 200:\n",
    "        raise Exception(\n",
    "            \"Cannot get stream (HTTP {}): {}\".format(\n",
    "                response.status_code, response.text\n",
    "            )\n",
    "        )\n",
    "    for response_line in response.iter_lines():\n",
    "        if response_line:\n",
    "            json_response = json.loads(response_line)\n",
    "            print(json.dumps(json_response, indent=4, sort_keys=True))"
   ]
  },
  {
   "cell_type": "markdown",
   "metadata": {},
   "source": [
    "#### Test Run\n",
    "\n",
    "> * Get any prior rules using the function get_rules.\n",
    "> * Delete these prior rules using delete_all_rules, this is so that you don't have any older rules which you may have used but are not specified in your current payload; for example if your initial rule was to find tweets with text \"weather\" and you later on want tweets with text \"apple\", \"covid19\" you will need to delete \"weather\" from your sample_rules before setting the new rules, else the payload will contain \"weather\", \"apple\", and \"covid19\".\n",
    "> * The new rules specified by sample_rules are set using set_rules.\n",
    "> * Tweets matching the rules are then streamed using get_stream."
   ]
  },
  {
   "cell_type": "code",
   "execution_count": null,
   "metadata": {},
   "outputs": [],
   "source": [
    "rules = get_rules()\n",
    "delete = delete_all_rules(rules)\n",
    "set = set_rules(delete)\n",
    "get_stream(set)"
   ]
  }
 ],
 "metadata": {
  "kernelspec": {
   "display_name": "Python 3",
   "language": "python",
   "name": "python3"
  },
  "language_info": {
   "codemirror_mode": {
    "name": "ipython",
    "version": 3
   },
   "file_extension": ".py",
   "mimetype": "text/x-python",
   "name": "python",
   "nbconvert_exporter": "python",
   "pygments_lexer": "ipython3",
   "version": "3.6.5"
  }
 },
 "nbformat": 4,
 "nbformat_minor": 2
}
