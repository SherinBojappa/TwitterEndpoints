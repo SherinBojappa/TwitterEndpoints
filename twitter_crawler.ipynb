{
 "cells": [
  {
   "cell_type": "markdown",
   "metadata": {},
   "source": [
    "# Twitter Crawler\n",
    "\n",
    "The first thing you need to do is to create an application:\n",
    "\n",
    "[Twitter Apps](https://apps.twitter.com/) Select the **Create New App** button and follow instructions to the end.\n",
    "\n",
    "and obtain the following keys/tokens for authentication:\n",
    "\n",
    "* consumer_key\n",
    "* consumer_secret\n",
    "* access_token\n",
    "* access_token_secret\n",
    "\n",
    "**Note** Generating Twitter API keys can take anywhere from minutes to weeks "
   ]
  },
  {
   "cell_type": "markdown",
   "metadata": {},
   "source": [
    "# **Tweepy**\n",
    "\n",
    "> Tweepy is one of the best packages for working with twiter APIs [More](https://www.tweepy.org/)"
   ]
  },
  {
   "cell_type": "code",
   "execution_count": 2,
   "metadata": {},
   "outputs": [],
   "source": [
    "## Import Required Modules\n",
    "\n",
    "import os\n",
    "import json\n",
    "import tweepy\n"
   ]
  },
  {
   "cell_type": "markdown",
   "metadata": {},
   "source": [
    "## Environment Setup and Authentication\n",
    "\n",
    "- Set your twitter consumer_key, consumer_secret, access_token, and access_token_secret as environment variables. \n",
    "- For information on where to locate this information you can look at [TwitterEnvironment](https://developer.twitter.com/en/docs/apps/overview)\n",
    "- A secure way to use your credentials is by creating environment variables in your terminal. \n",
    "```console\n",
    "export 'consumer_key'='xxxx' \n",
    "export 'consumer_secret'='xxxx' \n",
    "export 'access_token'='xxxx' \n",
    "export 'access_token_secret'='xxxx'\n",
    "```\n",
    "- After authenticating the twitter credentials, you will be able to access the twitter api interface."
   ]
  },
  {
   "cell_type": "code",
   "execution_count": 3,
   "metadata": {},
   "outputs": [],
   "source": [
    "consumer_key = os.environ.get('consumer_key')\n",
    "consumer_secret = os.environ.get('consumer_secret')\n",
    "access_token = os.environ.get('access_token')\n",
    "access_token_secret = os.environ.get('access_token_secret')\n",
    "\n",
    "auth = tweepy.OAuthHandler(consumer_key, consumer_secret)\n",
    "auth.set_access_token(access_token, access_token_secret)\n",
    "api = tweepy.API(auth)"
   ]
  },
  {
   "cell_type": "markdown",
   "metadata": {},
   "source": [
    "**Getting user’s Tweets**\n",
    ">Main parameters:\n",
    "> * id – Specifies the ID or screen name of the user.\n",
    "> * count – Max amount of most recent tweets of user. <br>\n",
    "> * [More Details](\"https://tweepy.readthedocs.io/en/latest/api.html#API.user_timeline/\")"
   ]
  },
  {
   "cell_type": "code",
   "execution_count": 4,
   "metadata": {},
   "outputs": [
    {
     "name": "stdout",
     "output_type": "stream",
     "text": [
      "Collecting columnar\n",
      "  Downloading https://files.pythonhosted.org/packages/06/00/a17a5657bf090b9dffdb310ac273c553a38f9252f60224da9fe62d9b60e9/Columnar-1.4.1-py3-none-any.whl\n",
      "Requirement already satisfied: toolz in /Users/sherin/anaconda3/lib/python3.6/site-packages (from columnar) (0.9.0)\n",
      "Requirement already satisfied: wcwidth in /Users/sherin/anaconda3/lib/python3.6/site-packages (from columnar) (0.1.7)\n",
      "Installing collected packages: columnar\n",
      "Successfully installed columnar-1.4.1\n",
      "\u001b[33mWARNING: You are using pip version 19.3.1; however, version 21.3.1 is available.\n",
      "You should consider upgrading via the 'pip install --upgrade pip' command.\u001b[0m\n"
     ]
    }
   ],
   "source": [
    "!pip install columnar"
   ]
  },
  {
   "cell_type": "code",
   "execution_count": 4,
   "metadata": {},
   "outputs": [
    {
     "name": "stderr",
     "output_type": "stream",
     "text": [
      "Unexpected parameter: id\n"
     ]
    },
    {
     "name": "stdout",
     "output_type": "stream",
     "text": [
      "        \n",
      "  ID                    CREATED_AT                TEXT                          \n",
      "    \n",
      "  1520417612043325448  2022-04-30 14:59:41+00:00  RT @boredyannlecun: If (i) a  \n",
      "                                                  ll the world's a ConvNet; &a  \n",
      "                                                  mp; (ii) all worlds spawn a   \n",
      "                                                  @ylecun, who invents ConvNet  \n",
      "                                                  s → (iii) the probability th  \n",
      "                                                  at…                           \n",
      "  1517141321927954432  2022-04-21 14:00:52+00:00  My research program so big,   \n",
      "                                                  God had to invent Bengio par  \n",
      "                                                  allelism, forking Gogeta Ben  \n",
      "                                                  gio into Yoshua &amp; Samy t  \n",
      "                                                  o accel… https://t.co/Tinjmx  \n",
      "                                                  s1Kg                          \n",
      "  1516969990901092353  2022-04-21 02:40:04+00:00  My brain so big, I wrote \"Th  \n",
      "                                                  e Consciousness Prior\" while  \n",
      "                                                   unconscious #consciousnessp  \n",
      "                                                  rior https://t.co/v4XTcOARsS  \n",
      "  1516968578016329729  2022-04-21 02:34:27+00:00  RT @boredyannlecun: My influ  \n",
      "                                                  ence so big, I wrote the top  \n",
      "                                                   two papers on your Google S  \n",
      "                                                  cholar page. #torched         \n",
      "  1516967191601725440  2022-04-21 02:28:57+00:00  My lab so big, you need Hado  \n",
      "                                                  op just to process the paper  \n",
      "                                                  s we wrote in 2021. Allons-y  \n",
      "                                                  ! #ICLoseR https://t.co/MrIv  \n",
      "                                                  7aZUul                        \n",
      "\n",
      "{\"created_at\": \"Thu Jul 29 07:25:55 +0000 2021\", \"id\": 1420646753863225349, \"id_str\": \"1420646753863225349\", \"text\": \"There is a lot of talk about normalizing flows. But I think it is also important be mindful of other ways to flow a\\u2026 https://t.co/zLONavUjyu\", \"truncated\": true, \"entities\": {\"hashtags\": [], \"symbols\": [], \"user_mentions\": [], \"urls\": [{\"url\": \"https://t.co/zLONavUjyu\", \"expanded_url\": \"https://twitter.com/i/web/status/1420646753863225349\", \"display_url\": \"twitter.com/i/web/status/1\\u2026\", \"indices\": [117, 140]}]}, \"source\": \"<a href=\\\"https://mobile.twitter.com\\\" rel=\\\"nofollow\\\">Twitter Web App</a>\", \"in_reply_to_status_id\": null, \"in_reply_to_status_id_str\": null, \"in_reply_to_user_id\": null, \"in_reply_to_user_id_str\": null, \"in_reply_to_screen_name\": null, \"user\": {\"id\": 1275256897373908993, \"id_str\": \"1275256897373908993\", \"name\": \"boredbengio\", \"screen_name\": \"boredbengio\", \"location\": \"Montreal\", \"description\": \"My subconscious invented the consciousness prior.\", \"url\": \"https://t.co/wFDPKA4Az7\", \"entities\": {\"url\": {\"urls\": [{\"url\": \"https://t.co/wFDPKA4Az7\", \"expanded_url\": \"https://arxiv.org/abs/1709.08568\", \"display_url\": \"arxiv.org/abs/1709.08568\", \"indices\": [0, 23]}]}, \"description\": {\"urls\": []}}, \"protected\": false, \"followers_count\": 2691, \"friends_count\": 1, \"listed_count\": 13, \"created_at\": \"Tue Jun 23 02:38:40 +0000 2020\", \"favourites_count\": 102, \"utc_offset\": null, \"time_zone\": null, \"geo_enabled\": false, \"verified\": false, \"statuses_count\": 65, \"lang\": null, \"contributors_enabled\": false, \"is_translator\": false, \"is_translation_enabled\": false, \"profile_background_color\": \"F5F8FA\", \"profile_background_image_url\": null, \"profile_background_image_url_https\": null, \"profile_background_tile\": false, \"profile_image_url\": \"http://pbs.twimg.com/profile_images/1275257254565097474/0MGGRgbK_normal.jpg\", \"profile_image_url_https\": \"https://pbs.twimg.com/profile_images/1275257254565097474/0MGGRgbK_normal.jpg\", \"profile_link_color\": \"1DA1F2\", \"profile_sidebar_border_color\": \"C0DEED\", \"profile_sidebar_fill_color\": \"DDEEF6\", \"profile_text_color\": \"333333\", \"profile_use_background_image\": true, \"has_extended_profile\": true, \"default_profile\": true, \"default_profile_image\": false, \"following\": false, \"follow_request_sent\": false, \"notifications\": false, \"translator_type\": \"none\", \"withheld_in_countries\": []}, \"geo\": null, \"coordinates\": null, \"place\": null, \"contributors\": null, \"is_quote_status\": false, \"retweet_count\": 1, \"favorite_count\": 15, \"favorited\": false, \"retweeted\": false, \"lang\": \"en\"}\n"
     ]
    }
   ],
   "source": [
    "import json\n",
    "import tweepy\n",
    "from columnar import columnar\n",
    "\n",
    "username = 'boredbengio'\n",
    "count = 5\n",
    "\n",
    "# Only iterate through the first n statuses\n",
    "tweets = tweepy.Cursor(api.user_timeline,\n",
    "                       id=username).items(count)\n",
    "\n",
    "\n",
    "# Pulling information from tweets iterable object\n",
    "tweets_list = [[tweet.id, tweet.created_at, tweet.text] for tweet in tweets]\n",
    "\n",
    "\n",
    "#print tweets\n",
    "headers = ['id', ' created_at','text']\n",
    "table = columnar(tweets_list, headers, no_borders=True)\n",
    "print(table)\n",
    "\n",
    "\n",
    "# what are the current attributes/tags in a tweet?\n",
    "# https://jsoneditoronline.org/\n",
    "tweet = api.get_status('1420646753863225349')\n",
    "print(json.dumps(tweet._json))\n",
    "\n",
    "\n"
   ]
  },
  {
   "cell_type": "markdown",
   "metadata": {},
   "source": [
    "**Pagination**\n",
    ">Main parameters:\n",
    "> * count – Max number of pages. <br>\n",
    "> * [More Details](\"https://docs.tweepy.org/en/stable/pagination.html\")"
   ]
  },
  {
   "cell_type": "code",
   "execution_count": 6,
   "metadata": {},
   "outputs": [
    {
     "name": "stderr",
     "output_type": "stream",
     "text": [
      "Unexpected parameter: id\n"
     ]
    },
    {
     "name": "stdout",
     "output_type": "stream",
     "text": [
      "1520417612043325448 RT @boredyannlecun: If (i) all\n",
      "1517141321927954432 My research program so big, Go\n",
      "1516969990901092353 My brain so big, I wrote \"The \n",
      "1516968578016329729 RT @boredyannlecun: My influen\n",
      "1516967191601725440 My lab so big, you need Hadoop\n",
      "1516965673196572672 RT @boredyannlecun: My deep ne\n",
      "1425265524238389254 RT @boredyannlecun: WTF, I was\n",
      "1420646753863225349 There is a lot of talk about n\n",
      "1338760483097235456 RT @boredyannlecun: Damn, @pmd\n",
      "1338267929587163139 RT @boredyannlecun: What did y\n",
      "1338266157573419008 RT @boredyannlecun: In light o\n",
      "1334782203285430273 Seems @GoogleAI had the vanish\n",
      "1324772330913046530 RT @boredyannlecun: Trump has \n",
      "1324481304797290497 ICLoseR (pronounced \"I see los\n",
      "1322996993120231426 What if instead of minimizing \n",
      "1313922130422136832 RT @boredyannlecun: Old man Ge\n",
      "1313280370649989121 RT @BasicScienceSav: Thank you\n",
      "1312595632851496960 RT @Graham__Duncan: Best \"epic\n",
      "1312595482359857153 RT @Jarmosan: Mr. Bengio, you’\n",
      "1312495310837481472 Look at this primate destroyin\n"
     ]
    }
   ],
   "source": [
    "# pagination.. iterate through pages\n",
    "count = 1\n",
    "for page in tweepy.Cursor(api.user_timeline,id=username).pages(count):\n",
    "    searched_tweets = [status for status in page]\n",
    "    ids_texts = [(json_obj.id, json_obj.text) for json_obj in searched_tweets]\n",
    "    for id, text in ids_texts:\n",
    "        print(id, text[:30])\n",
    "    # searched_tweets = [status._json for status in page]\n",
    "    #json_strings = [json.dumps(json_obj) for json_obj in searched_tweets]  \n",
    "    #print(json_strings[0])\n",
    "    \n"
   ]
  },
  {
   "cell_type": "code",
   "execution_count": 7,
   "metadata": {},
   "outputs": [
    {
     "ename": "AttributeError",
     "evalue": "'API' object has no attribute 'followers_ids'",
     "output_type": "error",
     "traceback": [
      "\u001b[0;31m---------------------------------------------------------------------------\u001b[0m",
      "\u001b[0;31mAttributeError\u001b[0m                            Traceback (most recent call last)",
      "\u001b[0;32m<ipython-input-7-6c18f1b7f60c>\u001b[0m in \u001b[0;36m<module>\u001b[0;34m()\u001b[0m\n\u001b[1;32m      2\u001b[0m \u001b[0mcount\u001b[0m \u001b[0;34m=\u001b[0m \u001b[0;36m5\u001b[0m\u001b[0;34m\u001b[0m\u001b[0m\n\u001b[1;32m      3\u001b[0m \u001b[0;34m\u001b[0m\u001b[0m\n\u001b[0;32m----> 4\u001b[0;31m followers = tweepy.Cursor(api.followers_ids,\n\u001b[0m\u001b[1;32m      5\u001b[0m                           user_id=user_id).items(count)\n\u001b[1;32m      6\u001b[0m \u001b[0;34m\u001b[0m\u001b[0m\n",
      "\u001b[0;31mAttributeError\u001b[0m: 'API' object has no attribute 'followers_ids'"
     ]
    }
   ],
   "source": [
    "user_id='14861663'\n",
    "count = 5\n",
    "\n",
    "followers = tweepy.Cursor(api.followers_ids,\n",
    "                          user_id=user_id).items(count)\n",
    "\n",
    "user_list = [[user] for user in followers]\n",
    "\n",
    "headers = ['user_id']\n",
    "table = columnar(user_list, headers, no_borders=True)\n",
    "print(table) "
   ]
  },
  {
   "cell_type": "markdown",
   "metadata": {},
   "source": [
    "**Getting user's followees**\n",
    ">Main parameters:\n",
    "> * user_id – Specifies the ID of the user.\n",
    "> * [More Details](\"http://docs.tweepy.org/en/v3.5.0/api.html#API.friends_ids\")"
   ]
  },
  {
   "cell_type": "code",
   "execution_count": 8,
   "metadata": {},
   "outputs": [
    {
     "ename": "AttributeError",
     "evalue": "'API' object has no attribute 'friends'",
     "output_type": "error",
     "traceback": [
      "\u001b[0;31m---------------------------------------------------------------------------\u001b[0m",
      "\u001b[0;31mAttributeError\u001b[0m                            Traceback (most recent call last)",
      "\u001b[0;32m<ipython-input-8-b2b24ec116b4>\u001b[0m in \u001b[0;36m<module>\u001b[0;34m()\u001b[0m\n\u001b[1;32m      2\u001b[0m \u001b[0mcount\u001b[0m \u001b[0;34m=\u001b[0m \u001b[0;36m5\u001b[0m\u001b[0;34m\u001b[0m\u001b[0m\n\u001b[1;32m      3\u001b[0m \u001b[0;34m\u001b[0m\u001b[0m\n\u001b[0;32m----> 4\u001b[0;31m friends = tweepy.Cursor(api.friends,\n\u001b[0m\u001b[1;32m      5\u001b[0m                         user_id=user_id).items(count)\n\u001b[1;32m      6\u001b[0m \u001b[0;34m\u001b[0m\u001b[0m\n",
      "\u001b[0;31mAttributeError\u001b[0m: 'API' object has no attribute 'friends'"
     ]
    }
   ],
   "source": [
    "user_id='14861663'\n",
    "count = 5\n",
    "    \n",
    "friends = tweepy.Cursor(api.friends,\n",
    "                        user_id=user_id).items(count)\n",
    "    \n",
    "# Pulling information from tweets iterable object\n",
    "user_list = [[user.id,  user.screen_name, user.created_at] for user in friends]\n",
    "\n",
    "#print users\n",
    "headers = ['user_id', ' screen_name','created_at']\n",
    "table = columnar(user_list, headers, no_borders=True)\n",
    "print(table)   "
   ]
  },
  {
   "cell_type": "markdown",
   "metadata": {},
   "source": [
    "\n",
    "**Getting tweet with specific id**\n",
    "> helpful when you only have tweet ids and would like to get the corresponding attributes such as text.\n"
   ]
  },
  {
   "cell_type": "code",
   "execution_count": 9,
   "metadata": {},
   "outputs": [
    {
     "name": "stdout",
     "output_type": "stream",
     "text": [
      "['Al Pacino Fan Site: Al Pacino The Latest Huge Name For Tarantino’s ‘Once Upon A Time In Hollywood’ https://t.co/ldyHRX2kuH', 7, 1]\n",
      "{\"created_at\": \"Thu Apr 30 16:20:48 +0000 2020\", \"id\": 1255894886051713030, \"id_str\": \"1255894886051713030\", \"text\": \"Al Pacino Fan Site: Al Pacino The Latest Huge Name For Tarantino\\u2019s \\u2018Once Upon A Time In Hollywood\\u2019 https://t.co/ldyHRX2kuH\", \"truncated\": false, \"entities\": {\"hashtags\": [], \"symbols\": [], \"user_mentions\": [], \"urls\": [{\"url\": \"https://t.co/ldyHRX2kuH\", \"expanded_url\": \"https://alpacino.life/al-pacino-the-latest-huge-name-for-tarantinos-once-upon-a-time-in-hollywood-2.html\", \"display_url\": \"alpacino.life/al-pacino-the-\\u2026\", \"indices\": [99, 122]}]}, \"source\": \"<a href=\\\"http://alpacino.info\\\" rel=\\\"nofollow\\\">AlPacino.info</a>\", \"in_reply_to_status_id\": null, \"in_reply_to_status_id_str\": null, \"in_reply_to_user_id\": null, \"in_reply_to_user_id_str\": null, \"in_reply_to_screen_name\": null, \"user\": {\"id\": 233717042, \"id_str\": \"233717042\", \"name\": \"Al Pacino.info\", \"screen_name\": \"AlPacinoinfo\", \"location\": \"World wide Fansite\", \"description\": \"Welcome to the unofficial Al Pacino fan site and forum!\\nFacebook fanpage https://t.co/3FzpwmtG5F\", \"url\": \"https://t.co/nh7BPXVAAA\", \"entities\": {\"url\": {\"urls\": [{\"url\": \"https://t.co/nh7BPXVAAA\", \"expanded_url\": \"http://alpacino.life\", \"display_url\": \"alpacino.life\", \"indices\": [0, 23]}]}, \"description\": {\"urls\": [{\"url\": \"https://t.co/3FzpwmtG5F\", \"expanded_url\": \"http://www.facebook.com/AlPacinoinfo\", \"display_url\": \"facebook.com/AlPacinoinfo\", \"indices\": [73, 96]}]}}, \"protected\": false, \"followers_count\": 5894, \"friends_count\": 46, \"listed_count\": 7, \"created_at\": \"Mon Jan 03 23:15:50 +0000 2011\", \"favourites_count\": 9, \"utc_offset\": null, \"time_zone\": null, \"geo_enabled\": false, \"verified\": false, \"statuses_count\": 233, \"lang\": null, \"contributors_enabled\": false, \"is_translator\": false, \"is_translation_enabled\": false, \"profile_background_color\": \"131516\", \"profile_background_image_url\": \"http://abs.twimg.com/images/themes/theme1/bg.png\", \"profile_background_image_url_https\": \"https://abs.twimg.com/images/themes/theme1/bg.png\", \"profile_background_tile\": true, \"profile_image_url\": \"http://pbs.twimg.com/profile_images/1730799328/tumblr_lv0611MvMw1qefgdko1_400_normal.jpg\", \"profile_image_url_https\": \"https://pbs.twimg.com/profile_images/1730799328/tumblr_lv0611MvMw1qefgdko1_400_normal.jpg\", \"profile_banner_url\": \"https://pbs.twimg.com/profile_banners/233717042/1425244321\", \"profile_link_color\": \"009999\", \"profile_sidebar_border_color\": \"EEEEEE\", \"profile_sidebar_fill_color\": \"EFEFEF\", \"profile_text_color\": \"333333\", \"profile_use_background_image\": true, \"has_extended_profile\": false, \"default_profile\": false, \"default_profile_image\": false, \"following\": false, \"follow_request_sent\": false, \"notifications\": false, \"translator_type\": \"none\", \"withheld_in_countries\": []}, \"geo\": null, \"coordinates\": null, \"place\": null, \"contributors\": null, \"is_quote_status\": false, \"retweet_count\": 1, \"favorite_count\": 7, \"favorited\": false, \"retweeted\": false, \"possibly_sensitive\": false, \"possibly_sensitive_appealable\": false, \"lang\": \"en\"}\n"
     ]
    }
   ],
   "source": [
    "import json \n",
    "\n",
    "tweet_id='1255894886051713030'\n",
    "\n",
    "tweet = api.get_status(tweet_id)\n",
    "\n",
    "tweet_list = [tweet.text, tweet.favorite_count, tweet.retweet_count]\n",
    "print(tweet_list)\n",
    "\n",
    "json_tweet = json.dumps(tweet._json)\n",
    "\n",
    "print( json_tweet)"
   ]
  },
  {
   "cell_type": "markdown",
   "metadata": {},
   "source": [
    "\n",
    "**Twitter Search**\n",
    " > To search Twitter for recent tweets, we will define search terms and a start date of for search. [More Details](http://docs.tweepy.org/en/latest/api.html#API.search)<br>\n",
    " > - For creating complex queries please see [Building standard queries](https://developer.twitter.com/en/docs/twitter-api/v1/rules-and-filtering/overview/standard-operators)\n",
    " > - Twitter API only allows you to access the past few weeks of tweets, so you cannot dig into the history too far.\n",
    "​"
   ]
  },
  {
   "cell_type": "code",
   "execution_count": 10,
   "metadata": {},
   "outputs": [
    {
     "ename": "AttributeError",
     "evalue": "'API' object has no attribute 'search'",
     "output_type": "error",
     "traceback": [
      "\u001b[0;31m---------------------------------------------------------------------------\u001b[0m",
      "\u001b[0;31mAttributeError\u001b[0m                            Traceback (most recent call last)",
      "\u001b[0;32m<ipython-input-10-50418d3c3fa7>\u001b[0m in \u001b[0;36m<module>\u001b[0;34m()\u001b[0m\n\u001b[1;32m      4\u001b[0m \u001b[0;34m\u001b[0m\u001b[0m\n\u001b[1;32m      5\u001b[0m \u001b[0;31m# Collect tweets\u001b[0m\u001b[0;34m\u001b[0m\u001b[0;34m\u001b[0m\u001b[0m\n\u001b[0;32m----> 6\u001b[0;31m tweets = tweepy.Cursor(api.search,\n\u001b[0m\u001b[1;32m      7\u001b[0m                        \u001b[0mq\u001b[0m\u001b[0;34m=\u001b[0m\u001b[0msearch_words\u001b[0m\u001b[0;34m,\u001b[0m\u001b[0;34m\u001b[0m\u001b[0m\n\u001b[1;32m      8\u001b[0m                        lang=\"en\").items(5)\n",
      "\u001b[0;31mAttributeError\u001b[0m: 'API' object has no attribute 'search'"
     ]
    }
   ],
   "source": [
    "# Define the search term and the date_since date\n",
    "\n",
    "search_words = \"#disneyland -filter:retweets\"\n",
    "\n",
    "# Collect tweets\n",
    "tweets = tweepy.Cursor(api.search,\n",
    "                       q=search_words,\n",
    "                       lang=\"en\").items(5)\n",
    "\n",
    "# Pulling information from tweets iterable object\n",
    "tweets_list = [[tweet.id, tweet.created_at, tweet.text] for tweet in tweets]\n",
    "\n",
    "#print tweets\n",
    "headers = ['id', ' created_at','text']\n",
    "table = columnar(tweets_list, headers, no_borders=True)\n",
    "print(table)\n"
   ]
  },
  {
   "cell_type": "markdown",
   "metadata": {},
   "source": [
    "**Twitter Streaming API**\n",
    "> The Twitter streaming API is used to download twitter messages in real time. In Tweepy, an instance of tweepy.Stream establishes a streaming session and routes messages to StreamListener instance. The on_data method of a stream listener receives all messages and calls functions according to the message type.<br>\n",
    "> Using the streaming api has three steps: \n",
    "> - Create a class inheriting from StreamListener\n",
    "> - Using that class create a Stream object\n",
    "> - Connect to the Twitter API using the Stream.\n",
    "[More Details](https://docs.tweepy.org/en/v3.5.0/streaming_how_to.html)\n",
    "\n",
    "*What kinds of filters can be used?*: [see here](https://developer.twitter.com/en/docs/twitter-api/v1/tweets/filter-realtime/api-reference/post-statuses-filter)\n",
    "\n",
    "*What are the error codes and how to handel them*: [see here](https://developer.twitter.com/en/docs/twitter-api/v1/tweets/filter-realtime/guides/streaming-message-types)"
   ]
  },
  {
   "cell_type": "code",
   "execution_count": null,
   "metadata": {},
   "outputs": [],
   "source": []
  }
 ],
 "metadata": {
  "kernelspec": {
   "display_name": "Python 3",
   "language": "python",
   "name": "python3"
  },
  "language_info": {
   "codemirror_mode": {
    "name": "ipython",
    "version": 3
   },
   "file_extension": ".py",
   "mimetype": "text/x-python",
   "name": "python",
   "nbconvert_exporter": "python",
   "pygments_lexer": "ipython3",
   "version": "3.6.5"
  }
 },
 "nbformat": 4,
 "nbformat_minor": 2
}
