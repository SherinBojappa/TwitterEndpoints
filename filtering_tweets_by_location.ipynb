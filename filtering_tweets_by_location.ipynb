{
 "cells": [
  {
   "cell_type": "markdown",
   "metadata": {},
   "source": [
    "The goal of this tutorial is to show how to filter tweets based on their geo-location"
   ]
  },
  {
   "cell_type": "code",
   "execution_count": 58,
   "metadata": {},
   "outputs": [],
   "source": [
    "import os\n",
    "import json\n",
    "import tweepy"
   ]
  },
  {
   "cell_type": "markdown",
   "metadata": {},
   "source": [
    "set your twitter consumer_key, consumer_secret, access_token, and access_token_secret as environment variables. For information on where to locate this information you can look at https://developer.twitter.com/en/docs/apps/overview\n",
    "\n",
    "export 'consumer_key'='xxxx' export 'consumer_secret'='xxxx' export 'access_token'='xxxx' export 'access_token_secret'='xxxx'\n",
    "\n",
    "After authenticating the twitter credentials, you will get the twitter api interface."
   ]
  },
  {
   "cell_type": "code",
   "execution_count": 59,
   "metadata": {},
   "outputs": [],
   "source": [
    "consumer_key = os.environ.get('consumer_key')\n",
    "consumer_secret = os.environ.get('consumer_secret')\n",
    "access_token = os.environ.get('access_token')\n",
    "access_token_secret = os.environ.get('access_token_secret')\n",
    "\n",
    "auth = tweepy.OAuthHandler(consumer_key, consumer_secret)\n",
    "auth.set_access_token(access_token, access_token_secret)\n",
    "api = tweepy.API(auth)"
   ]
  },
  {
   "cell_type": "markdown",
   "metadata": {},
   "source": [
    "We will use the search_tweets API from tweepy to filter tweets based on a geographical location. To do this we need to specify the latitude, longitude, and radius in the geocode parameter. This returns tweets by users located within a given radius of the given latitude/longitude. The location is preferentially taking from the Geotagging API, but will fall back to their Twitter profile. The parameter value is specified by “latitude,longitude,radius”, where radius units must be specified as either “mi” (miles) or “km” (kilometers). Note that you cannot use the near operator via the API to geocode arbitrary locations; however you can use this geocode parameter to search near geocodes directly. A maximum of 1,000 distinct “sub-regions” will be considered when using the radius modifier.<br> \n",
    "\n",
    "You can obtain the latitude and longitude from https://www.latlong.net/\n",
    "\n",
    "Not many profiles have the geo-location available in the tweet response.\n",
    "\n"
   ]
  },
  {
   "cell_type": "code",
   "execution_count": 54,
   "metadata": {},
   "outputs": [],
   "source": [
    "query='batman'\n",
    "# geo location for Massachusetts\n",
    "geo='42.407211,-71.382439,25km'\n",
    "tweets = api.search_tweets(q=query, geocode=geo, count=40)"
   ]
  },
  {
   "cell_type": "code",
   "execution_count": 55,
   "metadata": {},
   "outputs": [
    {
     "name": "stdout",
     "output_type": "stream",
     "text": [
      "@JackieB36746112 @Limbo_Prisoner @TheRock @TheBatman Maybe we shouldn't be focused on movies when we have a tyrant… https://t.co/kp7htKVWFA\n",
      "location:\n",
      "Woburn, MA\n",
      "None\n",
      "\n",
      "\n",
      "Batman was solid 9\n",
      "location:\n",
      "Framingham, MA\n",
      "None\n",
      "\n",
      "\n"
     ]
    }
   ],
   "source": [
    "for tweet in tweets:   \n",
    "    if tweet.place !=None:\n",
    "        print(tweet.text)\n",
    "        print('location:')\n",
    "        print(tweet.place.full_name)\n",
    "        print(tweet.geo)\n",
    "        print('\\n')"
   ]
  },
  {
   "cell_type": "code",
   "execution_count": 56,
   "metadata": {},
   "outputs": [],
   "source": [
    "query='winter'\n",
    "# geo location for Munich\n",
    "geo='48.136353,11.575004,25km'\n",
    "tweets = api.search_tweets(q=query, geocode=geo, count=40)"
   ]
  },
  {
   "cell_type": "code",
   "execution_count": 57,
   "metadata": {},
   "outputs": [
    {
     "name": "stdout",
     "output_type": "stream",
     "text": [
      "@Wellenleben @forwalu @lupus_woelfin Tja. Ich bin innerorts mit dem Rad unterwegs. Immer. Sommer und Winter. Tag un… https://t.co/sAKTFqAXfZ\n",
      "location:\n",
      "Germering, Deutschland\n",
      "None\n",
      "\n",
      "\n"
     ]
    }
   ],
   "source": [
    "for tweet in tweets:   \n",
    "    if tweet.place !=None:\n",
    "        print(tweet.text)\n",
    "        print('location:')\n",
    "        print(tweet.place.full_name)\n",
    "        print(tweet.geo)\n",
    "        print('\\n')"
   ]
  }
 ],
 "metadata": {
  "kernelspec": {
   "display_name": "Python 3",
   "language": "python",
   "name": "python3"
  },
  "language_info": {
   "codemirror_mode": {
    "name": "ipython",
    "version": 3
   },
   "file_extension": ".py",
   "mimetype": "text/x-python",
   "name": "python",
   "nbconvert_exporter": "python",
   "pygments_lexer": "ipython3",
   "version": "3.6.5"
  }
 },
 "nbformat": 4,
 "nbformat_minor": 2
}
